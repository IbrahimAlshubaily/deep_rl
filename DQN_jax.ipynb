{
  "nbformat": 4,
  "nbformat_minor": 5,
  "metadata": {
    "kernelspec": {
      "display_name": "Python 3 (ipykernel)",
      "language": "python",
      "name": "python3"
    },
    "language_info": {
      "codemirror_mode": {
        "name": "ipython",
        "version": 3
      },
      "file_extension": ".py",
      "mimetype": "text/x-python",
      "name": "python",
      "nbconvert_exporter": "python",
      "pygments_lexer": "ipython3",
      "version": "3.9.7"
    },
    "colab": {
      "name": "DQN_jax.ipynb",
      "provenance": [],
      "collapsed_sections": [],
      "include_colab_link": true
    },
    "accelerator": "GPU"
  },
  "cells": [
    {
      "cell_type": "markdown",
      "metadata": {
        "id": "view-in-github",
        "colab_type": "text"
      },
      "source": [
        "<a href=\"https://colab.research.google.com/github/IbrahimAlshubaily/deep_rl/blob/main/DQN_jax.ipynb\" target=\"_parent\"><img src=\"https://colab.research.google.com/assets/colab-badge.svg\" alt=\"Open In Colab\"/></a>"
      ]
    },
    {
      "cell_type": "markdown",
      "metadata": {
        "id": "IifvUfPrlY9U"
      },
      "source": [
        "# Setup Colab Environment "
      ],
      "id": "IifvUfPrlY9U"
    },
    {
      "cell_type": "code",
      "metadata": {
        "id": "3tYBZwVvk9yG"
      },
      "source": [
        "import jax\n",
        "#import jax.tools.colab_tpu\n",
        "#jax.tools.colab_tpu.setup_tpu()\n",
        "print(jax.device_count(), jax.devices())\n",
        "\n",
        "import jax.numpy as jnp\n",
        "from jax.experimental import stax\n",
        "from jax.experimental.stax import (BatchNorm, Conv, Dense, Flatten, Relu, LogSoftmax, Softmax)\n",
        "from jax import grad, jit, vmap, value_and_grad\n",
        "from IPython.display import clear_output\n",
        "!pip install optax\n",
        "clear_output()\n",
        "import optax\n",
        "key = jax.random.PRNGKey(seed=0)"
      ],
      "id": "3tYBZwVvk9yG",
      "execution_count": null,
      "outputs": []
    },
    {
      "cell_type": "code",
      "metadata": {
        "id": "lhSzYceUjYb6"
      },
      "source": [
        "#Install Roms for gym: https://stackoverflow.com/questions/67656740/exception-rom-is-missing-for-ms-pacman-see-https-github-com-openai-atari-py\n",
        "import urllib.request\n",
        "urllib.request.urlretrieve('http://www.atarimania.com/roms/Roms.rar','Roms.rar')\n",
        "!pip install unrar\n",
        "!unrar x Roms.rar\n",
        "!mkdir rars\n",
        "!mv HC\\ ROMS.zip   rars\n",
        "!mv ROMS.zip  rars\n",
        "!python -m atari_py.import_roms rars\n",
        "clear_output()"
      ],
      "id": "lhSzYceUjYb6",
      "execution_count": 1,
      "outputs": []
    },
    {
      "cell_type": "code",
      "metadata": {
        "id": "JzVVG7NBhlEf",
        "colab": {
          "base_uri": "https://localhost:8080/"
        },
        "outputId": "88fa8f0d-1060-4fd9-9752-650309d8db66"
      },
      "source": [
        "import gym\n",
        "import time\n",
        "import random\n",
        "import numpy as np\n",
        "from IPython import display\n",
        "import matplotlib.pyplot as plt\n",
        "from IPython.display import clear_output"
      ],
      "id": "JzVVG7NBhlEf",
      "execution_count": 1,
      "outputs": [
        {
          "output_type": "stream",
          "name": "stdout",
          "text": [
            "1 [GpuDevice(id=0, process_index=0)]\n"
          ]
        }
      ]
    },
    {
      "cell_type": "markdown",
      "metadata": {
        "id": "5OPl9dM0llY7"
      },
      "source": [
        "#Agent"
      ],
      "id": "5OPl9dM0llY7"
    },
    {
      "cell_type": "code",
      "metadata": {
        "id": "69be5989"
      },
      "source": [
        "class ReplayMemory(object):\n",
        "    def __init__(self, capacity):\n",
        "        self.idx = 0\n",
        "        self.capacity = capacity\n",
        "        self.is_full = False\n",
        "        self.memory = {'state':np.zeros((capacity, 80,80,1), dtype=np.float32),\n",
        "                        'Action':np.zeros((capacity), dtype=int),\n",
        "                        'reward':np.zeros((capacity), dtype=np.float32),\n",
        "                        'next_state':np.zeros((capacity, 80,80,1), dtype=np.float32),\n",
        "                        'done':np.zeros((capacity), dtype=bool)}\n",
        "\n",
        "    def push_episode(self, args):\n",
        "        for ind, k in enumerate(self.memory.keys()):\n",
        "            i,j = self.idx, min(self.capacity, self.idx+len(args[ind]))\n",
        "            self.memory[k][i:j] = args[ind][:j-i]\n",
        "\n",
        "        self.idx +=  len(args[0])\n",
        "        if self.idx >= self.capacity:\n",
        "            self.idx=0\n",
        "            self.is_full = True\n",
        "\n",
        "    def sample(self, batch_size):\n",
        "        sample_idx = np.random.choice(self.__len__(), batch_size, replace=False) \n",
        "        return [self.memory[k][sample_idx] for k in self.memory.keys()]           \n",
        "\n",
        "    def __len__(self):\n",
        "        return self.capacity if self.is_full else self.idx\n",
        "\n",
        "################################################################################\n",
        "\n",
        "#From Andrej Pong from Pixels blog: http://karpathy.github.io/2016/05/31/rl/\n",
        "def prepro(I):\n",
        "    I = I[35:195:2,::2, 0] # crop and downsample by factor of 2\n",
        "    I[(I == 144) | (I == 109)] = 0 # erase background\n",
        "    I[I != 0] = 1 # everything else (paddles, ball) set to 1\n",
        "    return I.astype(np.float32)\n",
        "\n",
        "def discounted_rewards(rewards, discount_rate = 0.97):\n",
        "    for i in reversed(range(len(rewards)-1)):\n",
        "        if rewards[i] == 0:  \n",
        "            rewards[i] += discount_rate * rewards[i+1]\n",
        "    return np.asarray(rewards).astype(np.float32)\n",
        "\n",
        "\n",
        "def select_action(state):\n",
        "    global epsilon\n",
        "    epsilon -= epsilon_decay_step \n",
        "    epsilon = max(epsilon, epsilon_min)\n",
        "    \n",
        "    if epsilon > np.random.rand(1)[0]:\n",
        "        action = np.random.choice(2)\n",
        "    else:\n",
        "        action = conv_net(params, np.expand_dims(state, axis=0)).argmax()\n",
        "    return action\n",
        "\n",
        "################################################################################\n",
        "\n",
        "def loss_fn(params, target_params, batch, gamma=0.99):\n",
        "    state, action, reward, next_state, done = batch\n",
        "    \n",
        "    future_rewards = conv_net(target_params, next_state).max(1) * (1 - done)\n",
        "    future_rewards = reward + gamma * future_rewards\n",
        "    future_rewards = jax.lax.select(True, jax.lax.stop_gradient(future_rewards), future_rewards)\n",
        "    \n",
        "    masks =  jnp.array(action[:, None] == jnp.arange(2), dtype=jnp.float32)\n",
        "    q_values = jnp.sum(jnp.multiply(conv_net(params, state), masks), axis=1)\n",
        "    return jnp.mean( 0.5 * (q_values - future_rewards)**2) #jnp.mean(jnp.abs(q_values - future_rewards))\n",
        "\n",
        "@jit\n",
        "def update(i, params, learner_state, target_params, batch):\n",
        "  target_params = jax.tree_multimap(lambda new, old: jax.lax.select(i%10000 == 0, new, old), params, target_params)\n",
        "  value, grads = jax.value_and_grad(loss_fn)(params, target_params, batch)\n",
        "  updates, learner_state = optimizer.update(grads, learner_state)\n",
        "  params = optax.apply_updates(params, updates)\n",
        "  return value, params, learner_state, target_params\n"
      ],
      "id": "69be5989",
      "execution_count": 2,
      "outputs": []
    },
    {
      "cell_type": "markdown",
      "metadata": {
        "id": "YJcU1L95lo0b"
      },
      "source": [
        "## Model & Hyperparamters"
      ],
      "id": "YJcU1L95lo0b"
    },
    {
      "cell_type": "code",
      "metadata": {
        "id": "dwkqoTU01e4t"
      },
      "source": [
        "init_fun, conv_net = stax.serial(Conv(16, (8,8), (4,4)), Relu,\n",
        "                                 Conv(32, (4,4), (2,2)), Relu,\n",
        "                                 Flatten, Dense(256), Relu,\n",
        "                                 Dense(2))\n",
        "batch_size = 512\n",
        "_, params = init_fun(key, (batch_size, 80, 80, 1))\n",
        "target_params = params\n",
        "\n",
        "optimizer = optax.adam(0.001)\n",
        "learner_state = optimizer.init(params)\n",
        "\n",
        "################################################################################\n",
        "\n",
        "epsilon = 1.0\n",
        "epsilon_min = 0.05  \n",
        "epsilon_greedy_frames = 250000.0\n",
        "epsilon_decay_step = (epsilon - epsilon_min) / epsilon_greedy_frames\n",
        "\n",
        "################################################################################\n",
        "\n",
        "step = 0\n",
        "losses = []\n",
        "skip_frames = 2\n",
        "running_rewards =[-21]\n",
        "memory = ReplayMemory(100000)\n",
        "env = gym.make(\"PongDeterministic-v4\")"
      ],
      "id": "dwkqoTU01e4t",
      "execution_count": 3,
      "outputs": []
    },
    {
      "cell_type": "code",
      "metadata": {
        "scrolled": false,
        "colab": {
          "base_uri": "https://localhost:8080/",
          "height": 316
        },
        "id": "44df21ad",
        "outputId": "382f0198-bf91-45f9-aeaa-ca50441d81b1"
      },
      "source": [
        "for episode in range(1000):\n",
        "    done = False\n",
        "    reward_stat = 0\n",
        "    screen = prepro(env.reset())\n",
        "    state = np.dstack([screen, screen])\n",
        "    next_state = state\n",
        "    eps_state, eps_action, eps_next_state, eps_reward, eps_done = [],[],[],[],[]\n",
        "    eps_loss = []\n",
        "    while not done:\n",
        "        step+=1\n",
        "        state = np.expand_dims(state[:,:,1] - state[:,:,0], axis=2)\n",
        "        action = select_action(state)\n",
        "        reward = 0\n",
        "        for _ in range(skip_frames):\n",
        "            if done: break\n",
        "            screen, r, done, _ = env.step(action+2)\n",
        "            reward+=r\n",
        "  \n",
        "        next_state[:,:,0] = next_state[:,:,1]\n",
        "        next_state[:,:,1] = prepro(screen)\n",
        "        eps_state.append(state), eps_action.append(action), eps_reward.append(reward), eps_next_state.append(np.expand_dims(next_state[:,:,1] - next_state[:,:,0], axis=2)), eps_done.append(done)\n",
        "        state = next_state\n",
        "        reward_stat+=reward \n",
        "        if episode > 20 and step % 4 == 0: \n",
        "            loss_value, params, learner_state, target_params = update(step, params, learner_state, target_params, memory.sample(batch_size))\n",
        "            eps_loss.append(loss_value)\n",
        "\n",
        "\n",
        "    memory.push_episode([eps_state, eps_action, discounted_rewards(eps_reward), eps_next_state, eps_done])\n",
        "\n",
        "    ############################################################################\n",
        "\n",
        "    if episode > 20:\n",
        "      running_rewards.append(0.98 * running_rewards[-1] + 0.02 * reward_stat)\n",
        "      losses.append(np.mean(eps_loss))\n",
        "      clear_output(wait=True) \n",
        "      figure, axis = plt.subplots(1, 2, sharex=True, figsize=(16,4))\n",
        "      axis[0].plot(np.array(running_rewards))\n",
        "      axis[0].set_title(\"Reward - 50 Episode Running Average\", fontsize=14)\n",
        "      axis[0].set_xlabel('Episode', fontsize=12)\n",
        "      axis[1].plot(np.array(losses))\n",
        "      axis[1].set_title(\"L2 Loss\", fontsize=14)\n",
        "      axis[1].set_xlabel('Episode', fontsize=12)\n",
        "      plt.show() \n",
        "      print(\"Episode: {}   Episode_score: {}   Epsilon: {:.3f}   Actions: {}\".format(episode-20, reward_stat, epsilon, np.bincount(eps_action)))\n"
      ],
      "id": "44df21ad",
      "execution_count": 4,
      "outputs": [
        {
          "output_type": "display_data",
          "data": {
            "image/png": "[encoded data removed]",
            "text/plain": [
              "<Figure size 1152x288 with 2 Axes>"
            ]
          },
          "metadata": {
            "needs_background": "light"
          }
        },
        {
          "output_type": "stream",
          "name": "stdout",
          "text": [
            "Episode: 979   Episode_score: 20.0   Epsilon: 0.050   Actions: [691 811]\n"
          ]
        }
      ]
    },
    {
      "cell_type": "code",
      "metadata": {
        "id": "2b91ee30"
      },
      "source": [
        "epsilon =0\n",
        "epsilon_min = 0  \n",
        "done = False\n",
        "screen = prepro(env.reset())\n",
        "state = np.dstack([screen, screen])\n",
        "r1,r2  = 0,0\n",
        "frames = []\n",
        "scores = []\n",
        "while not done:\n",
        "    action = select_action(np.expand_dims(state[:,:,1]-state[:,:,0], axis=2))\n",
        "    reward = 0\n",
        "    for _ in range(skip_frames):\n",
        "        if done: break\n",
        "        screen, r, done, _ = env.step(action+2)\n",
        "        reward+=r\n",
        "    state[:,:,0] = state[:,:,1]\n",
        "    state[:,:,1] = prepro(screen)\n",
        "    frames.append(state[:,:,1]-state[:,:,0])\n",
        "    if reward > 0: r1+=1\n",
        "    elif reward < 0: r2+=1\n",
        "    scores.append([r1,r2])"
      ],
      "id": "2b91ee30",
      "execution_count": 6,
      "outputs": []
    },
    {
      "cell_type": "code",
      "metadata": {
        "id": "9V-aebRDXMGp",
        "colab": {
          "base_uri": "https://localhost:8080/",
          "height": 285
        },
        "outputId": "bf7f4b16-6fa4-450d-9944-4dd2e293f8c1"
      },
      "source": [
        "import time\n",
        "for frame, score in zip(frames,scores):\n",
        "    display.clear_output(wait=True)\n",
        "    plt.imshow(frame, cmap='gray')\n",
        "    plt.show()\n",
        "    print(score[1],'-'*30,score[0])\n",
        "    time.sleep(0.05)"
      ],
      "id": "9V-aebRDXMGp",
      "execution_count": 10,
      "outputs": [
        {
          "output_type": "display_data",
          "data": {
            "image/png": "[encoded data removed]",
            "text/plain": [
              "<Figure size 432x288 with 1 Axes>"
            ]
          },
          "metadata": {
            "needs_background": "light"
          }
        },
        {
          "output_type": "stream",
          "name": "stdout",
          "text": [
            "0 ------------------------------ 21\n"
          ]
        }
      ]
    },
    {
      "cell_type": "code",
      "metadata": {
        "id": "POamLls2FWV4"
      },
      "source": [
        ""
      ],
      "id": "POamLls2FWV4",
      "execution_count": null,
      "outputs": []
    }
  ]
}