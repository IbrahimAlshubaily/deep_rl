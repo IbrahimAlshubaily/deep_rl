{
  "nbformat": 4,
  "nbformat_minor": 5,
  "metadata": {
    "kernelspec": {
      "display_name": "Python 3 (ipykernel)",
      "language": "python",
      "name": "python3"
    },
    "language_info": {
      "codemirror_mode": {
        "name": "ipython",
        "version": 3
      },
      "file_extension": ".py",
      "mimetype": "text/x-python",
      "name": "python",
      "nbconvert_exporter": "python",
      "pygments_lexer": "ipython3",
      "version": "3.9.7"
    },
    "colab": {
      "name": "PG_jax.ipynb",
      "provenance": [],
      "collapsed_sections": [],
      "include_colab_link": true
    },
    "accelerator": "GPU"
  },
  "cells": [
    {
      "cell_type": "markdown",
      "metadata": {
        "id": "view-in-github",
        "colab_type": "text"
      },
      "source": [
        "<a href=\"https://colab.research.google.com/github/IbrahimAlshubaily/deep_rl/blob/main/PG_jax.ipynb\" target=\"_parent\"><img src=\"https://colab.research.google.com/assets/colab-badge.svg\" alt=\"Open In Colab\"/></a>"
      ]
    },
    {
      "cell_type": "markdown",
      "metadata": {
        "id": "IifvUfPrlY9U"
      },
      "source": [
        "# Setup Colab Environment "
      ],
      "id": "IifvUfPrlY9U"
    },
    {
      "cell_type": "code",
      "metadata": {
        "id": "lhSzYceUjYb6"
      },
      "source": [
        "#Install Roms for gym: https://stackoverflow.com/questions/67656740/exception-rom-is-missing-for-ms-pacman-see-https-github-com-openai-atari-py\n",
        "import urllib.request\n",
        "urllib.request.urlretrieve('http://www.atarimania.com/roms/Roms.rar','Roms.rar')\n",
        "!pip install unrar\n",
        "!unrar x Roms.rar\n",
        "!mkdir rars\n",
        "!mv HC\\ ROMS.zip   rars\n",
        "!mv ROMS.zip  rars\n",
        "!python -m atari_py.import_roms rars\n",
        "clear_output()"
      ],
      "id": "lhSzYceUjYb6",
      "execution_count": 2,
      "outputs": []
    },
    {
      "cell_type": "code",
      "metadata": {
        "id": "3tYBZwVvk9yG",
        "colab": {
          "base_uri": "https://localhost:8080/"
        },
        "outputId": "5dac3915-5362-4bee-bf77-48e78964f2bf"
      },
      "source": [
        "import jax\n",
        "#import jax.tools.colab_tpu\n",
        "#jax.tools.colab_tpu.setup_tpu()\n",
        "\n",
        "import jax.numpy as jnp\n",
        "from jax.experimental import stax\n",
        "from jax.experimental.stax import (BatchNorm, Conv, Dense, Flatten, Relu, LogSoftmax, Softmax)\n",
        "from jax import grad, jit, vmap, value_and_grad\n",
        "from IPython.display import clear_output\n",
        "!pip install optax\n",
        "clear_output()\n",
        "import optax\n",
        "print(jax.device_count(), jax.devices())\n",
        "key = jax.random.PRNGKey(seed=0)"
      ],
      "id": "3tYBZwVvk9yG",
      "execution_count": 1,
      "outputs": [
        {
          "output_type": "stream",
          "name": "stdout",
          "text": [
            "1 [GpuDevice(id=0, process_index=0)]\n"
          ]
        }
      ]
    },
    {
      "cell_type": "code",
      "metadata": {
        "id": "JzVVG7NBhlEf"
      },
      "source": [
        "import gym\n",
        "import time\n",
        "import random\n",
        "import numpy as np\n",
        "from IPython import display\n",
        "import matplotlib.pyplot as plt"
      ],
      "id": "JzVVG7NBhlEf",
      "execution_count": 2,
      "outputs": []
    },
    {
      "cell_type": "markdown",
      "metadata": {
        "id": "5OPl9dM0llY7"
      },
      "source": [
        "#Agent"
      ],
      "id": "5OPl9dM0llY7"
    },
    {
      "cell_type": "code",
      "metadata": {
        "id": "69be5989"
      },
      "source": [
        "#From Andrej Pong from Pixels blog: http://karpathy.github.io/2016/05/31/rl/\n",
        "def prepro(I):\n",
        "    I = I[35:195:2,::2, 0] # crop and downsample by factor of 2\n",
        "    I[(I == 144) | (I == 109)] = 0 # erase background\n",
        "    I[I != 0] = 1 # everything else (paddles, ball) set to 1\n",
        "    return I.astype(np.float32)\n",
        "\n",
        "def discounted_rewards(rewards, discount_rate = 0.98):\n",
        "    for i in reversed(range(len(rewards)-1)):\n",
        "        if rewards[i] == 0:  \n",
        "            rewards[i] += discount_rate * rewards[i+1]\n",
        "    return np.asarray(rewards).astype(np.float32)\n",
        "\n",
        "def select_action(state):\n",
        "  action_probs = np.exp(conv_net(params, np.expand_dims(state, axis=0)))\n",
        "  action = np.random.choice([0,1], 1, p=action_probs[0])[0]\n",
        "  return action\n",
        "\n",
        "################################################################################\n",
        "\n",
        "def loss_fn(params, batch, gamma=0.99):\n",
        "    state, action, reward = batch\n",
        "    masks =  jnp.array(action[:, None] == jnp.arange(2), dtype=jnp.float32)\n",
        "    log_probs = jnp.sum(jnp.multiply(conv_net(params, state), masks), axis=1)\n",
        "    return -jnp.mean((log_probs * reward))\n",
        "\n",
        "@jit\n",
        "def update(i, params, learner_state, batch):\n",
        "  value, grads = jax.value_and_grad(loss_fn)(params, batch)\n",
        "  grads = [(jnp.clip(g[0], a_min=-0.5, a_max=0.5), jnp.clip(g[1], a_min=-1, a_max=1))  if len(g) else () for g in grads] #clip w, b of paramtarized layers\n",
        "  updates, learner_state = optimizer.update(grads, learner_state)\n",
        "  params = optax.apply_updates(params, updates)\n",
        "  return value, params, learner_state"
      ],
      "id": "69be5989",
      "execution_count": 3,
      "outputs": []
    },
    {
      "cell_type": "markdown",
      "metadata": {
        "id": "YJcU1L95lo0b"
      },
      "source": [
        "## Model & Hyperparamters"
      ],
      "id": "YJcU1L95lo0b"
    },
    {
      "cell_type": "code",
      "metadata": {
        "id": "dwkqoTU01e4t"
      },
      "source": [
        "init_fun, conv_net = stax.serial(Conv(16, (8,8), (8,8)), Relu,\n",
        "                                 Conv(32, (4,4), (2,2)), Relu,\n",
        "                                 Flatten, Dense(128), Relu,\n",
        "                                 Dense(2), LogSoftmax)\n",
        "\n",
        "batch_size = 512\n",
        "_, params = init_fun(key, (batch_size, 80, 80, 1))\n",
        "\n",
        "optimizer = optax.adam(0.00025)\n",
        "learner_state = optimizer.init(params)\n",
        "\n",
        "################################################################################\n",
        "step=0\n",
        "losses = []\n",
        "skip_frames = 2\n",
        "running_rewards =[-21]\n",
        "env = gym.make(\"PongDeterministic-v4\")"
      ],
      "id": "dwkqoTU01e4t",
      "execution_count": 9,
      "outputs": []
    },
    {
      "cell_type": "code",
      "metadata": {
        "scrolled": false,
        "colab": {
          "base_uri": "https://localhost:8080/",
          "height": 316
        },
        "id": "44df21ad",
        "outputId": "e2c3709a-c912-4c64-a244-0580151fed07"
      },
      "source": [
        "for episode in range(1500):\n",
        "    done = False\n",
        "    reward_stat = 0\n",
        "    screen = prepro(env.reset())\n",
        "    state = np.dstack([screen, screen])\n",
        "    next_state = state\n",
        "    eps_state, eps_action, eps_reward = [],[],[]\n",
        "    eps_loss = 0\n",
        "    step = 0\n",
        "    while not done:\n",
        "        step+=1\n",
        "        state = np.expand_dims(state[:,:,1] - state[:,:,0], axis=2)\n",
        "        action = select_action(state)\n",
        "        reward = 0\n",
        "        for _ in range(skip_frames):\n",
        "            if done: break\n",
        "            screen, r, done, _ = env.step(action+2)\n",
        "            reward+=r\n",
        "        \n",
        "        next_state[:,:,0] = next_state[:,:,1]\n",
        "        next_state[:,:,1] = prepro(screen)\n",
        "        eps_state.append(state), eps_action.append(action), eps_reward.append(reward)\n",
        "        state = next_state\n",
        "        reward_stat+=reward \n",
        "\n",
        "        if step > 500 and reward != 0 : \n",
        "            step = 0\n",
        "            eps_reward = discounted_rewards(eps_reward) \n",
        "            eps_reward -= eps_reward.mean()\n",
        "            eps_reward /= eps_reward.std()\n",
        "            loss_value, params, learner_state = update(step, params, learner_state, [jnp.asarray(eps_state), jnp.asarray(eps_action), jnp.asarray(eps_reward)])\n",
        "            eps_loss +=  loss_value \n",
        "            eps_state, eps_action, eps_reward = [],[],[]\n",
        "    ############################################################################\n",
        "\n",
        "    running_rewards.append(0.98 * running_rewards[-1] + 0.02 * reward_stat)\n",
        "    losses.append(eps_loss)\n",
        "    clear_output(wait=True) \n",
        "    figure, axis = plt.subplots(1, 2, sharex=True, figsize=(16,4))\n",
        "    axis[0].plot(np.array(running_rewards))\n",
        "    axis[0].set_title(\"Reward - 50 Episode Running Average\", fontsize=14)\n",
        "    axis[0].set_xlabel('Episode', fontsize=12)\n",
        "    axis[1].plot(np.array(losses))\n",
        "    axis[1].set_title(\"Loss\", fontsize=14)\n",
        "    axis[1].set_xlabel('Episode', fontsize=12)\n",
        "    plt.show() \n",
        "    print(\"Episode: {}   Episode_score: {}   Actions sample: {}\".format(episode, reward_stat, np.bincount(eps_action)))\n"
      ],
      "id": "44df21ad",
      "execution_count": 10,
      "outputs": [
        {
          "output_type": "display_data",
          "data": {
            "image/png": "[encoded data removed]",
            "text/plain": [
              "<Figure size 1152x288 with 2 Axes>"
            ]
          },
          "metadata": {
            "needs_background": "light"
          }
        },
        {
          "output_type": "stream",
          "name": "stdout",
          "text": [
            "Episode: 1499   Episode_score: 21.0   Actions sample: []\n"
          ]
        }
      ]
    },
    {
      "cell_type": "code",
      "metadata": {
        "id": "2b91ee30"
      },
      "source": [
        "screen = prepro(env.reset())\n",
        "state = np.dstack([screen, screen])\n",
        "r1,r2  = 0,0\n",
        "frames = []\n",
        "scores = []\n",
        "done = False\n",
        "while not done:\n",
        "    action = select_action(np.expand_dims(state[:,:,1]-state[:,:,0], axis=2))\n",
        "    reward = 0\n",
        "    for _ in range(skip_frames):\n",
        "        if done: break\n",
        "        screen, r, done, _ = env.step(action+2)\n",
        "        reward+=r\n",
        "    state[:,:,0] = state[:,:,1]\n",
        "    state[:,:,1] = prepro(screen)\n",
        "    frames.append(state[:,:,1]-state[:,:,0])\n",
        "    if reward > 0: r1+=1\n",
        "    elif reward < 0: r2+=1\n",
        "    scores.append([r1,r2])"
      ],
      "id": "2b91ee30",
      "execution_count": 17,
      "outputs": []
    },
    {
      "cell_type": "code",
      "metadata": {
        "id": "9V-aebRDXMGp",
        "colab": {
          "base_uri": "https://localhost:8080/",
          "height": 285
        },
        "outputId": "2e19bf75-63ab-46e6-8f31-9cf5801efdeb"
      },
      "source": [
        "import time\n",
        "for frame, score in zip(frames,scores):\n",
        "    display.clear_output(wait=True)\n",
        "    plt.imshow(frame, cmap='gray')\n",
        "    plt.show()\n",
        "    print(score[1],'-'*30,score[0])\n",
        "    time.sleep(0.05)"
      ],
      "id": "9V-aebRDXMGp",
      "execution_count": 18,
      "outputs": [
        {
          "output_type": "display_data",
          "data": {
            "image/png": "[encoded data removed]",
            "text/plain": [
              "<Figure size 432x288 with 1 Axes>"
            ]
          },
          "metadata": {
            "needs_background": "light"
          }
        },
        {
          "output_type": "stream",
          "name": "stdout",
          "text": [
            "0 ------------------------------ 21\n"
          ]
        }
      ]
    },
    {
      "cell_type": "code",
      "metadata": {
        "id": "A3i_U45kYHHX"
      },
      "source": [
        ""
      ],
      "id": "A3i_U45kYHHX",
      "execution_count": null,
      "outputs": []
    }
  ]
}